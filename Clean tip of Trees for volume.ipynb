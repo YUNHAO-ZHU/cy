{
 "cells": [
  {
   "cell_type": "code",
   "execution_count": null,
   "id": "e7054735-4626-486c-8c06-35fe2ee81a61",
   "metadata": {
    "colab": {
     "base_uri": "https://localhost:8080/",
     "height": 454
    },
    "executionInfo": {
     "elapsed": 455,
     "status": "error",
     "timestamp": 1712150699589,
     "user": {
      "displayName": "Alex Bellas",
      "userId": "02046061913119121346"
     },
     "user_tz": 240
    },
    "id": "0343d858-fd03-4bfb-85bd-c6cdbc8a54e5",
    "outputId": "7913b858-3540-4373-c1f8-66090d50b5e1",
    "tags": []
   },
   "outputs": [
    {
     "name": "stderr",
     "output_type": "stream",
     "text": [
      "/home/cytools/mounted_volume/full_lattice.py:23: UserWarning: AS: Check where these functions are being used and remove them accordingly!\n",
      "  warnings.warn(\"AS: Check where these functions are being used and remove them accordingly!\")\n"
     ]
    }
   ],
   "source": [
    "%run toricNecessitiesLessMemory.ipynb  #This is where the new Toric_Variety class lives\n",
    "from treesGenerator import * #Loads in function/data needed for sampling the tree ensemble\n",
    "# %run treesGenerator.ipynb  #If you want to run the Jupyter notebook version\n",
    "import copy\n",
    "from numpy import random\n",
    "\n",
    "#These 2 files contain the ray/cone data for FRSTs of the two 3d reflexive polytopes that yield the largest number of tree ensemble geometries\n",
    "from s1Data import *\n",
    "from s2Data import *\n",
    "\n",
    "#Build the initial Toric_Variety from the rays/cones in s1Data\n",
    "polytopetoric = Toric_Variety(s1rays,s1cones)\n",
    "# print('Initial h11: ', len(polytopetoric.edges())-3)\n",
    "\n",
    "saveToFile = False  #Set true to save to file the timing dictionary defined below (h11s and time to calc. mori gens)\n",
    "tvplot = []\n",
    "h11p = []\n",
    "#morigens = []\n",
    "tips = []\n",
    "#sample_list_cones = [1, 0, 2, 3, 5, 7, 10, 11, 13, 19, 20, 23, 25, 29, 30, 31, 35, 37, 39, 41, 43, 47, 49, 51, 53, 57, 59, 61, 64, 67, 71, 72, 67, 65, 63, 51]\n",
    "#sample_list_edges = [0, 1, 2, 3, 5, 7, 10, 11, 13, 19, 20, 23, 25, 29, 30, 31, 35, 37, 39, 41, 43, 47, 49, 51, 53, 57, 59, 61, 64, 67, 71, 72, 100, 97, 89, 77]\n",
    "if saveToFile:\n",
    "    fyle1 = open(\"exampleCones.py\", \"w\") #saves cones\n",
    "    fyle2 = open(\"exampleRays.py\", \"w\") #saves rays\n",
    "    fyle1.write(\"conez = [\")\n",
    "    fyle2.write(\"raze = [\")\n",
    "for i in range(1, 37):\n",
    "    #The max. number of face and edge blow ups for the s1Data set\n",
    "    ncones = [2*i]\n",
    "    nedges = [3*i]\n",
    "    #ncones = [sample_list_cones[i]]\n",
    "    #nedges = [sample_list_edges[i]]\n",
    "    \n",
    "    #Could instead uncomment this section to get more examples with various numbers of face/edge tree\n",
    "    # ncones = [i+1 for i in range(len(polytopetoric.cones())) if ((i+1)%3==0 or i==1)]\n",
    "    # nedges = []\n",
    "    # for c in ncones:\n",
    "    #     if c==72:\n",
    "    #         nedges.append(107)\n",
    "    #     else:\n",
    "    #         nedges.append(c+10)\n",
    "    print('ncones: ',ncones)\n",
    "    print('nedges: ',nedges)\n",
    "    timings = {}\n",
    "    timings['h11s']=[]\n",
    "    timings['mori']=[]\n",
    "    num_torics = 0  #keep track of the number of new toric varieties made\n",
    "    startTime = time.time()\n",
    "    for blups in range(len(ncones)):  #iterate over each desired number of face trees to add\n",
    "        stime = time.time()\n",
    "        newtv = newrandomtoric(polytopetoric.edges(), polytopetoric.cones(), ncones[blups], nedges[blups])  #Add the trees\n",
    "        newtv = Toric_Variety(*newtv)#Build the new toric variety\n",
    "        tvplot.append(newtv)\n",
    "        \n",
    "        print('\\nTime to add trees: ', round(time.time()-stime,5),'s')\n",
    "        \n",
    "        print('h11: ', len(newtv.edges())-3)# Get and record h11\n",
    "        h11 = len(newtv.edges())-3\n",
    "        h11p.append(h11)\n",
    "        timings['h11s'].append(len(newtv.edges())-3)\n",
    "        #print('cones: ',len(newtv.cones()))\n",
    "        \n",
    "        print('smooth? ',newtv.is_smooth())  #Check if the new toric variety is smooth\n",
    "        \n",
    "        stime = time.time()\n",
    "        moriGens = newtv.mori_generators()  #Get the generators of the Mori cone and time it\n",
    "        mori_cone = Cone(moriGens)\n",
    "        kahler_cone = mori_cone.dual_cone()\n",
    "        tip = kahler_cone.tip_of_stretched_cone(1)\n",
    "        #morigens.append(moriGens)\n",
    "        tips.append(tip)\n",
    "        #print('mori cone: ', mori_cone)\n",
    "        #print('totskc:', totskc)\n",
    "        etime = time.time()\n",
    "        print('Time to mori: ',round(etime-stime,5),'s')\n",
    "        timings['mori'].append(etime-stime)\n",
    "        \n",
    "        if saveToFile:  #Save the results\n",
    "            saverays = newtv.edges().tolist()\n",
    "            savecones = newtv.cones()\n",
    "            \n",
    "            if blups==0:\n",
    "                fyle1.write(str(savecones))\n",
    "                fyle2.write(str(saverays))\n",
    "            else:\n",
    "                fyle1.write(\",\" + str(savecones))\n",
    "                fyle2.write(\",\" + str(saverays))\n",
    "        num_torics += 1\n",
    "        \n",
    "        if saveToFile:\n",
    "            fyle1.write(\"]\")\n",
    "            fyle2.write(\"]\")\n",
    "            fyle1.close()\n",
    "            fyle2.close()\n",
    "            \n",
    "        print(\"\\nTotal number of toric varieties made: \" + str(num_torics))\n",
    "        print(\"Time taken to do everything: \" + str(time.time() - startTime),'s')"
   ]
  },
  {
   "cell_type": "code",
   "execution_count": 2,
   "id": "c6207316-490f-44e7-a532-b19be1a8365a",
   "metadata": {
    "tags": []
   },
   "outputs": [],
   "source": [
    "from collections import Counter, defaultdict"
   ]
  },
  {
   "cell_type": "code",
   "execution_count": 4,
   "id": "a552f5be-fa71-4c51-b5f4-072571181c51",
   "metadata": {
    "tags": []
   },
   "outputs": [],
   "source": [
    "from itertools import combinations\n",
    "from math import factorial"
   ]
  },
  {
   "cell_type": "code",
   "execution_count": 61,
   "id": "cff41636-5070-4f88-bf68-19cf7acea1a5",
   "metadata": {
    "tags": []
   },
   "outputs": [],
   "source": [
    "def compute_cy_volume(self, tloc):\n",
    "        \"\"\"\n",
    "        **Description:**\n",
    "        Computes the volume of the Calabi-Yau at a location in the Kähler cone.\n",
    "\n",
    "        **Arguments:**\n",
    "        - `tloc` *(array_like)*: A vector specifying a location in the Kähler\n",
    "            cone.\n",
    "\n",
    "        **Returns:**\n",
    "        *(float)* The volume of the Calabi-Yau at the specified location.\n",
    "\n",
    "        **Example:**\n",
    "        We construct a Calabi-Yau hypersurface and find its volume at the tip\n",
    "        of the stretched Kähler cone.\n",
    "        ```python {5}\n",
    "        p = Polytope([[1,0,0,0],[0,1,0,0],[0,0,1,0],[0,0,0,1],[-1,-1,-6,-9]])\n",
    "        t = p.triangulate()\n",
    "        cy = t.get_cy()\n",
    "        tip = cy.toric_kahler_cone().tip_of_stretched_cone(1)\n",
    "        cy.compute_cy_volume(tip)\n",
    "        # 3.4999999988856496\n",
    "        ```\n",
    "        \"\"\"\n",
    "        intnums = self.intersection_numbers()\n",
    "        xvol = 0\n",
    "        #basis = self.divisor_basis()\n",
    "        for ii in intnums:\n",
    "            mult = np.prod([factorial(c)\n",
    "                            for c in Counter(ii).values()])\n",
    "            xvol += intnums[ii]*np.prod([tloc[int(j)] for j in ii])/mult\n",
    "        return xvol"
   ]
  },
  {
   "cell_type": "code",
   "execution_count": 62,
   "id": "aa0b9dd4-146c-42ed-b1f0-a3d2b0ff6091",
   "metadata": {
    "tags": []
   },
   "outputs": [
    {
     "name": "stdout",
     "output_type": "stream",
     "text": [
      "0 57\n",
      "1 44\n",
      "2 85\n",
      "3 113\n",
      "4 167\n",
      "5 222\n",
      "6 289\n",
      "7 317\n",
      "8 370\n",
      "9 512\n",
      "10 540\n",
      "11 615\n",
      "12 661\n",
      "13 783\n",
      "14 806\n",
      "15 807\n",
      "16 935\n",
      "17 956\n",
      "18 1023\n",
      "19 1069\n",
      "20 1108\n",
      "21 1247\n",
      "22 1264\n",
      "23 1337\n",
      "24 1404\n",
      "25 1479\n",
      "26 1547\n",
      "27 1597\n",
      "28 1659\n",
      "29 1748\n",
      "30 1831\n",
      "31 1846\n",
      "32 1943\n",
      "33 1887\n",
      "34 1827\n",
      "35 1460\n"
     ]
    }
   ],
   "source": [
    "total_volume = []\n",
    "for i in range(len(tvplot)):\n",
    "    print(i, len(tvplot[i].edges()))\n",
    "    v = compute_cy_volume(tvplot[i], tips[i])\n",
    "    total_volume.append(v)"
   ]
  },
  {
   "cell_type": "code",
   "execution_count": 64,
   "id": "985c86be-09ac-47bb-86c5-9e738b0a2eaf",
   "metadata": {
    "tags": []
   },
   "outputs": [],
   "source": [
    "tvl = total_volume"
   ]
  },
  {
   "cell_type": "code",
   "execution_count": 65,
   "id": "273d678f-11e8-4a18-8f3d-c7bc49fbd3f5",
   "metadata": {
    "tags": []
   },
   "outputs": [],
   "source": [
    "whole_volume.extend(tvl)"
   ]
  },
  {
   "cell_type": "code",
   "execution_count": 67,
   "id": "9ec8fbe7-7321-48d0-8fa8-08becaf3c963",
   "metadata": {
    "tags": []
   },
   "outputs": [],
   "source": [
    "nv = whole_volume"
   ]
  },
  {
   "cell_type": "code",
   "execution_count": 69,
   "id": "557505ff-45c8-4c8b-b254-b495a0dd5f5f",
   "metadata": {
    "tags": []
   },
   "outputs": [],
   "source": [
    "filename = 'totalvolume.py'\n",
    "with open(filename, 'w') as file:\n",
    "    file.write(f\"whole_volume = {nv}\\n\")"
   ]
  },
  {
   "cell_type": "code",
   "execution_count": 1,
   "id": "c4941f94-f6ea-4011-9422-cbdd735811cd",
   "metadata": {
    "tags": []
   },
   "outputs": [],
   "source": [
    "def compute_divisor_volumes(self, tloc, in_basis=False):\n",
    "        \"\"\"\n",
    "        **Description:**\n",
    "        Computes the volume of the basis divisors at a location in the Kähler\n",
    "        cone.\n",
    "\n",
    "        The volume of the ith divisor is 0.5*kappa_{ijk} t^j t^k.\n",
    "\n",
    "        **Arguments:**\n",
    "        - `tloc` *(array_like)*: A vector specifying a location in the Kähler\n",
    "            cone.\n",
    "        - `in_basis` *(bool, optional, default=False)*: When set to True, the\n",
    "            volumes of the current basis of divisors are computed. Otherwise,\n",
    "            the volumes of all prime toric divisors are computed.\n",
    "\n",
    "        \n",
    "        **Example:**\n",
    "        We construct a Calabi-Yau hypersurface and find the volumes of the\n",
    "        prime toric divisors at the tip of the stretched Kähler cone.\n",
    "        ```python {5}\n",
    "        p = Polytope([[1,0,0,0],[0,1,0,0],[0,0,1,0],[0,0,0,1],[-1,-1,-6,-9]])\n",
    "        t = p.triangulate()\n",
    "        cy = t.get_cy()\n",
    "        tip = cy.toric_kahler_cone().tip_of_stretched_cone(1)\n",
    "        cy.compute_divisor_volumes(tip)\n",
    "        # array([ 2.5       , 23.99999999, 16.        ,  2.5       ,  2.5       ,\n",
    "        #         0.5       ])\n",
    "        ```\n",
    "        \"\"\"\n",
    "        intnums = self.intersection_numbers()\n",
    "        #basis = self.divisor_basis()\n",
    "        #if len(basis.shape) == 2: # If basis is matrix\n",
    "        tau = np.zeros(len(self.edges()), dtype=float)\n",
    "        for ii in intnums:\n",
    "            c = Counter(ii)\n",
    "            for j in c.keys():\n",
    "                tau[j] += intnums[ii] * np.prod([tloc[k]**(c[k]-(j==k))/factorial(c[k]-(j==k)) for k in c.keys()])\n",
    "        return np.array(tau)"
   ]
  },
  {
   "cell_type": "code",
   "execution_count": 28,
   "id": "db7a6338-718d-4962-a25f-7c17a10858c9",
   "metadata": {
    "tags": []
   },
   "outputs": [
    {
     "name": "stdout",
     "output_type": "stream",
     "text": [
      "0 810\n",
      "1 1290\n",
      "2 1459\n",
      "3 434\n",
      "4 1974\n",
      "5 1235\n",
      "6 1147\n",
      "7 1484\n",
      "8 1413\n",
      "9 1103\n",
      "10 1028\n",
      "11 1158\n",
      "12 519\n",
      "13 239\n",
      "14 197\n",
      "15 405\n",
      "16 1221\n",
      "17 1023\n",
      "18 1467\n",
      "19 1158\n",
      "20 1193\n",
      "21 1355\n",
      "22 724\n",
      "23 848\n",
      "24 538\n",
      "25 1363\n",
      "26 593\n",
      "27 1577\n",
      "28 844\n",
      "29 1812\n",
      "30 691\n",
      "31 864\n",
      "32 1274\n",
      "33 801\n",
      "34 922\n",
      "35 1435\n"
     ]
    }
   ],
   "source": [
    "divisor_v = []\n",
    "for i in range(len(tvplot)):\n",
    "    print(i, len(tvplot[i].edges()))\n",
    "    divisor_list = compute_divisor_volumes(tvplot[i], tips[i]).tolist()\n",
    "    divisor_v.append(divisor_list)"
   ]
  },
  {
   "cell_type": "code",
   "execution_count": 39,
   "id": "abcadb2c-ee5e-47fd-b6d5-4ec7d21e2c98",
   "metadata": {
    "tags": []
   },
   "outputs": [],
   "source": [
    "filename = 'divisorvolume.py'\n",
    "with open(filename, 'w') as file:\n",
    "    file.write(f\"divisor_volume = {divisor_volume}\\n\")"
   ]
  },
  {
   "cell_type": "code",
   "execution_count": 43,
   "id": "089fc583-5d3c-4e22-8efd-e9fa6c34922d",
   "metadata": {
    "tags": []
   },
   "outputs": [],
   "source": [
    "filename = 'h11test.py'\n",
    "with open(filename, 'w') as file:\n",
    "    file.write(f\"h11plot = {h11p}\\n\")"
   ]
  }
 ],
 "metadata": {
  "colab": {
   "provenance": []
  },
  "kernelspec": {
   "display_name": "Python 3 (ipykernel)",
   "language": "python",
   "name": "python3"
  },
  "language_info": {
   "codemirror_mode": {
    "name": "ipython",
    "version": 3
   },
   "file_extension": ".py",
   "mimetype": "text/x-python",
   "name": "python",
   "nbconvert_exporter": "python",
   "pygments_lexer": "ipython3",
   "version": "3.11.8"
  }
 },
 "nbformat": 4,
 "nbformat_minor": 5
}
